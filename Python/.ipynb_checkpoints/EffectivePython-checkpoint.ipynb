{
 "cells": [
  {
   "cell_type": "markdown",
   "id": "f6c599e9",
   "metadata": {},
   "source": [
    "# Effective Python Notes\n",
    "\n",
    "## Chapter 1 Pythonmic Thinking \n",
    "### Item 1. know which python version\n",
    "```bash\n",
    "$ python --version\n",
    "```\n",
    "\n",
    "```python\n",
    "import sys\n",
    "print(sys.version)\n",
    "```"
   ]
  },
  {
   "cell_type": "code",
   "execution_count": 1,
   "id": "edd20719",
   "metadata": {},
   "outputs": [
    {
     "name": "stdout",
     "output_type": "stream",
     "text": [
      "3.9.6 (tags/v3.9.6:db3ff76, Jun 28 2021, 15:26:21) [MSC v.1929 64 bit (AMD64)]\n"
     ]
    }
   ],
   "source": [
    "import sys\n",
    "print(sys.version)"
   ]
  },
  {
   "cell_type": "markdown",
   "id": "53bb50a4",
   "metadata": {},
   "source": [
    "### Item 2. Styles\n",
    "spaces\n",
    "- spaces not indents\n",
    "- 4 spaces each level\n",
    "- continuation of long expression to more lines indented by 4 extra spaces\n",
    "- functions and classes separeted by 2 blank lines\n",
    "- in class, methods separate by 1 line\n",
    "- in dict, no whitespace between key and colon, 1 space after if fit on the line\n",
    "- Only 1 space before and after =\n",
    "- type anotation, no space between var name and colon, 1 space after\n",
    "\n",
    "naming\n",
    "...\n",
    "\n",
    "import\n",
    "\n",
    "```python\n",
    "from . import x\n",
    "```\n",
    "\n",
    "\n",
    "### bytes vs string\n",
    "need to conver them\n"
   ]
  },
  {
   "cell_type": "code",
   "execution_count": 10,
   "id": "a8b7c761",
   "metadata": {},
   "outputs": [
    {
     "name": "stdout",
     "output_type": "stream",
     "text": [
      "type of byte?  <class 'bytes'>\n",
      "type of string? <class 'str'>\n",
      "byte is bytes? True\n",
      "byte == string? False\n",
      "byte decode == string? True\n",
      "string endcode == byte?  True\n"
     ]
    }
   ],
   "source": [
    "byte = b'apple'\n",
    "print(\"type of byte? \", type(byte))\n",
    "string = 'apple'\n",
    "print(\"type of string?\", type(string))\n",
    "print(\"byte is bytes?\", isinstance(byte, bytes))\n",
    "print(\"byte == string?\", byte == string)\n",
    "print(\"byte decode == string?\", byte.decode('utf-8') == string)\n",
    "print(\"string endcode == byte? \", string.encode('utf-8') == byte)\n",
    "\n"
   ]
  },
  {
   "cell_type": "code",
   "execution_count": 5,
   "id": "bbb920ab",
   "metadata": {},
   "outputs": [
    {
     "name": "stdout",
     "output_type": "stream",
     "text": [
      "b'\\xf1\\xf2\\xf3\\xf4\\xf5'\n"
     ]
    }
   ],
   "source": [
    "with open('data.bin', 'wb') as f: \n",
    "    f.write(b'\\xf1\\xf2\\xf3\\xf4\\xf5')\n",
    "\n",
    "with open('data.bin', 'rb') as f:\n",
    "    data = f.read()\n",
    "\n",
    "print(data)"
   ]
  },
  {
   "cell_type": "markdown",
   "id": "d1337322",
   "metadata": {},
   "source": [
    "### Print stuff\n",
    "Just use the f thing\n"
   ]
  },
  {
   "cell_type": "code",
   "execution_count": 31,
   "id": "4a5ad7a9",
   "metadata": {},
   "outputs": [
    {
     "name": "stdout",
     "output_type": "stream",
     "text": [
      "    1      and 0003.00000 and ha\n"
     ]
    }
   ],
   "source": [
    "a = 1\n",
    "b = 2.000001\n",
    "c = 'ha'\n",
    "spacing = 10\n",
    "print(f'{a!r:^10} and {b+1:0^10.2f} and {c}')"
   ]
  },
  {
   "cell_type": "markdown",
   "id": "b50b0ea6",
   "metadata": {},
   "source": [
    "### Write helper\n"
   ]
  },
  {
   "cell_type": "code",
   "execution_count": 36,
   "id": "d42010b5",
   "metadata": {},
   "outputs": [
    {
     "name": "stdout",
     "output_type": "stream",
     "text": [
      "1\n",
      "999\n"
     ]
    }
   ],
   "source": [
    "di = {'green':['1','2','3']}\n",
    "def get_first_int(values, key, default=0):\n",
    "    found = values.get(key, [''])\n",
    "    if found[0]:\n",
    "        return int(found[0])\n",
    "    return default\n",
    "print(get_first_int(di, 'green', 999))\n",
    "print(get_first_int(di, 'red', 999))"
   ]
  },
  {
   "cell_type": "markdown",
   "id": "d833d862",
   "metadata": {},
   "source": [
    "### Unpacking over indexing\n",
    "\n",
    "### Enumerate over Ranging\n",
    "\n",
    "### zip to process parallel shit"
   ]
  },
  {
   "cell_type": "code",
   "execution_count": 48,
   "id": "93bee85e",
   "metadata": {},
   "outputs": [
    {
     "name": "stdout",
     "output_type": "stream",
     "text": [
      "zip_short\n",
      "1 4 a\n",
      "2 5 b\n",
      "3 6 c\n",
      "zip_longest\n",
      "1 4 a\n",
      "2 5 b\n",
      "3 6 c\n",
      "0 7 d\n"
     ]
    }
   ],
   "source": [
    "print(\"zip_short\")\n",
    "a = [1, 2, 3]\n",
    "b = [4, 5, 6] \n",
    "c = ['a', 'b', 'c', 'd']\n",
    "for i, j, k in zip(a, b, c):\n",
    "    print(i, j, k)\n",
    "\n",
    "print(\"zip_longest\")\n",
    "from itertools import zip_longest\n",
    "b.append(7)\n",
    "c = ['a', 'b', 'c', 'd']\n",
    "for i, j, k in zip_longest(a,b, c, fillvalue = 0):\n",
    "    print(i, j, k)"
   ]
  },
  {
   "cell_type": "markdown",
   "id": "b3b6c334",
   "metadata": {},
   "source": [
    "### 'else' after for and while loop executes after the loop is done, not when the loop exited unmaturely. Avoid whenever possible"
   ]
  },
  {
   "cell_type": "code",
   "execution_count": 53,
   "id": "0d717861",
   "metadata": {},
   "outputs": [
    {
     "name": "stdout",
     "output_type": "stream",
     "text": [
      "success after 3 runs\n",
      "success when loop never run\n"
     ]
    }
   ],
   "source": [
    "li = [1, 2, 3]\n",
    "acc = 0\n",
    "\n",
    "# execute after success loop completion\n",
    "for i in li:\n",
    "    acc += 1\n",
    "else:\n",
    "    print('success after', acc, \"runs\")\n",
    "acc = 0\n",
    "\n",
    "# dont execute when premature loop exit\n",
    "for i in li:\n",
    "    break; \n",
    "    acc += 1\n",
    "else:\n",
    "    print('success after premature break at', acc, \"runs\")\n",
    "\n",
    "# execute when loop never run in the first place\n",
    "acc = 3\n",
    "while acc < 3: \n",
    "    acc += 1\n",
    "else: \n",
    "    print(\"success when loop never run\")\n"
   ]
  },
  {
   "cell_type": "markdown",
   "id": "a36b3c5f",
   "metadata": {},
   "source": [
    "### Assignment statement avoids repetition, use with caution for python 3.9"
   ]
  },
  {
   "cell_type": "code",
   "execution_count": 60,
   "id": "92df760d",
   "metadata": {},
   "outputs": [
    {
     "name": "stdout",
     "output_type": "stream",
     "text": [
      "3\n"
     ]
    }
   ],
   "source": [
    "dic = {'a': 3}\n",
    "if (a:= dic.get('a', 0)) > 2:\n",
    "    print(a)\n"
   ]
  },
  {
   "cell_type": "markdown",
   "id": "a6a1afa7",
   "metadata": {},
   "source": [
    "# #Dict and Lists\n",
    "### Know ow to slice and shit\n",
    "Slice\n",
    "```\n",
    "a[:], a[1:], a[:-1], \n",
    "```\n",
    "\n",
    "assignment: \n",
    "```\n",
    "a = b, b = a[:], b[:] = a\n",
    "```\n",
    "\n",
    "### dont slice and step at the same time\n",
    "\n"
   ]
  },
  {
   "cell_type": "code",
   "execution_count": 36,
   "id": "b0d2d2e2",
   "metadata": {},
   "outputs": [
    {
     "name": "stdout",
     "output_type": "stream",
     "text": [
      "primitive\n",
      "a = b, rip\n",
      "[1, 1] [1, 1]\n",
      "a = b[:], ok\n",
      "[1, 2] [1, 1]\n",
      "[0, 2] [1, 1]\n",
      "a[:] = b, ok\n",
      "[1, 2] [1, 1]\n",
      "[0, 2] [1, 1]\n",
      "class\n",
      "a = b[:], rip\n",
      "[[3, 1], [4]] [[3], [4]]\n"
     ]
    }
   ],
   "source": [
    "print(\"primitive\")\n",
    "print(\"a = b, rip\")\n",
    "a = [1, 2]\n",
    "b = a\n",
    "b[1] =  1\n",
    "print(a, b)\n",
    "print(\"a = b[:], ok\")\n",
    "a = [1, 2]\n",
    "b = a[:]\n",
    "b[1] =  1\n",
    "print(a, b)\n",
    "a[0] = 0  \n",
    "print(a, b)\n",
    "print(\"a[:] = b, ok\")\n",
    "a = [1, 2]\n",
    "b[:] = a\n",
    "b[1] = 1\n",
    "print(a, b)\n",
    "a[0] =  0\n",
    "print(a, b)\n",
    "\n",
    "print(\"class\")\n",
    "\n",
    "class Col: \n",
    "    def __init__(self, c):\n",
    "        self.li = []\n",
    "        self.li.append(c)\n",
    "    \n",
    "    def __repr__(self):\n",
    "        return str(self.li)\n",
    "    \n",
    "        \n",
    "\n",
    "a = [Col(1), Col(2)]\n",
    "b = [Col(3), Col(4)]\n",
    "print(\"a = b[:], rip\")\n",
    "a = b[:]\n",
    "# try uncommenting the line below\n",
    "a = copy.deepcopy(a)\n",
    "a[0].li.append(1)\n",
    "print(a, b)"
   ]
  },
  {
   "cell_type": "markdown",
   "id": "b0181f85",
   "metadata": {},
   "source": [
    "### Catch all unpacking and Passing"
   ]
  },
  {
   "cell_type": "code",
   "execution_count": 25,
   "id": "4162478f",
   "metadata": {},
   "outputs": [
    {
     "name": "stdout",
     "output_type": "stream",
     "text": [
      "notice [1, 2, 3, 4] vs 1 2 3 4\n",
      "1 [2, 3] 4\n",
      "args (1, 2, 3, 4)\n",
      "kwargs {'a': 'b', 'b': 'd'}\n",
      "args (1, 2, 3, 4)\n",
      "kwargs {'a': 'b', 'b': 'd'}\n"
     ]
    }
   ],
   "source": [
    "# catch all unpacking\n",
    "a = [1, 2, 3, 4]\n",
    "print('notice', a, 'vs', *a) \n",
    "first, *other, last = a\n",
    "print(first, other, last)\n",
    "\n",
    "# read all functions\n",
    "def read_all(*args, **kwargs): \n",
    "    print(\"args\", args)\n",
    "    print(\"kwargs\", kwargs)\n",
    "d = { 'a': 'b', 'b': 'd'}\n",
    "read_all(1,2,3,4, a='b', b='d')\n",
    "read_all(*a, **d)"
   ]
  },
  {
   "cell_type": "markdown",
   "id": "b87e7e38",
   "metadata": {},
   "source": [
    "### To sort stuff\n",
    "1. key = lambda x: x.name\n",
    "2. powertools.sort(key = lambda x: (-x.weight, x.name), reverse=True)\n",
    "3. or from least significant to more significant: \n",
    "    - powertools.sort(key = lambda x: x.name) # ascend\n",
    "    - powertools.sort(key = lambda x: x.weight, reverse = True)\n"
   ]
  },
  {
   "cell_type": "markdown",
   "id": "0ff30484",
   "metadata": {},
   "source": [
    "### Dict Order\n",
    "- well python 3.6 and later are ordered. But one should not rely on that\n",
    "- from collections.abc import MutableMapping to build custom dict\n",
    "- prefer using get over handle keyError\n",
    "- prefer defaultdict(list/set/etc) over setDefault set default get key and return if key not present directly assign default to such key in the dict.\n",
    "- know how to do '\\_\\_missing\\_\\_' func, this is usually to do something\n",
    "```\n",
    "class Picture(dict)；\n",
    "\n",
    "    # if key not exist in dict, try to set up a handler:\n",
    "    def __missing__（self, key):\n",
    "        value = open_picture(key)\n",
    "        self[key] = value\n",
    "        return value\n",
    "```"
   ]
  },
  {
   "cell_type": "markdown",
   "id": "09ef2bf3",
   "metadata": {},
   "source": [
    "## Functions\n",
    "### Never unpack more than 3 var when returning stuff, just return class tuple and shit\n",
    "\n",
    "### prefer raising exceptions to returning None\n",
    "- this is the opposite of Java considering every statement in python is heavy, this is more explicit tho.\n",
    "\n",
    "### know your Closure\n",
    "\n",
    "### positional args"
   ]
  },
  {
   "cell_type": "code",
   "execution_count": 42,
   "id": "fb7861a4",
   "metadata": {},
   "outputs": [],
   "source": [
    "# a, b positional only, c position keyword ok, d, f keyword only\n",
    "def func(a, b, /, c, *, d, f):\n",
    "    pass\n"
   ]
  },
  {
   "cell_type": "markdown",
   "id": "91c8197d",
   "metadata": {},
   "source": [
    "### Decorate with functools.wraps \n",
    "use this for tracing and stuff"
   ]
  },
  {
   "cell_type": "code",
   "execution_count": 49,
   "id": "c9add507",
   "metadata": {},
   "outputs": [
    {
     "name": "stdout",
     "output_type": "stream",
     "text": [
      "fibonacci((1,), {}) -> 1\n",
      "fibonacci((0,), {}) -> 0\n",
      "fibonacci((1,), {}) -> 1\n",
      "fibonacci((2,), {}) -> 1\n",
      "fibonacci((3,), {}) -> 2\n",
      "2\n",
      "Help on function fibonacci in module __main__:\n",
      "\n",
      "fibonacci(n)\n",
      "\n",
      "<function fibonacci at 0x0000016F0CC8F790>\n"
     ]
    }
   ],
   "source": [
    "from functools import wraps\n",
    "def trace(func):\n",
    "    @wraps(func)\n",
    "    def wrapper(*args, **kwargs):\n",
    "        result = func(*args, **kwargs)\n",
    "        print(f'{func.__name__}({args!r}, {kwargs!r}) '\n",
    "            f'-> {result!r}')\n",
    "        return result\n",
    "    return wrapper\n",
    "\n",
    "\n",
    "@trace\n",
    "def fibonacci(n): \n",
    "    if n in (0, 1): \n",
    "        return n\n",
    "    return fibonacci(n-2) + fibonacci(n-1)\n",
    "\n",
    "print(fibonacci(3))\n",
    "help(fibonacci)\n",
    "print(fibonacci)\n",
    "\n",
    "\n",
    "\n",
    "\n"
   ]
  },
  {
   "cell_type": "markdown",
   "id": "91c54746",
   "metadata": {},
   "source": [
    "## Comprehension and Generators\n",
    "### Use comprehension, not map filter, "
   ]
  },
  {
   "cell_type": "code",
   "execution_count": 18,
   "id": "41d37b7c",
   "metadata": {},
   "outputs": [
    {
     "name": "stdout",
     "output_type": "stream",
     "text": [
      "[0, 1, 4, 9, 16, 25, 36, 49, 64, 81]\n"
     ]
    }
   ],
   "source": [
    "a = [i for i in range(10)]\n",
    "# maping a(i) if is_a else b(i) for i in array if filter(i) \n",
    "e = [x ** 2 if x % 2 else x**3 for x in a if x != 5 ]\n",
    "e = map(lambda x: x **2, filter(lambda x: x % 2 ==0, a))\n",
    "e = (x ** 2 for x in a)\n",
    "print(list(e))\n",
    "for i in e:\n",
    "    print(i)\n",
    "\n",
    "# so fuck map and filters, just use comprehension"
   ]
  },
  {
   "cell_type": "markdown",
   "id": "114e0471",
   "metadata": {},
   "source": [
    "### Avoid more than 2 control sub expressions\n",
    "just use normal loops and stuff"
   ]
  },
  {
   "cell_type": "code",
   "execution_count": 21,
   "id": "df65d4e5",
   "metadata": {},
   "outputs": [
    {
     "name": "stdout",
     "output_type": "stream",
     "text": [
      "dont do [1, 2, 3, 4, 5, 6, 7, 8, 9]\n",
      "do [1, 2, 3, 4, 5, 6, 7, 8, 9]\n"
     ]
    }
   ],
   "source": [
    "matrix = [[1, 2, 3], [4, 5, 6], [7, 8, 9]]\n",
    "flat = [x for row in matrix for x in row]\n",
    "print(\"dont do\", flat)\n",
    "\n",
    "le = []\n",
    "for sub1 in matrix: \n",
    "    le.extend(sub1)\n",
    "print(\"do\", le)\n",
    "\n",
    "# also use walrus operator whenever possible for dict or list building"
   ]
  },
  {
   "cell_type": "code",
   "execution_count": 32,
   "id": "5acfe148",
   "metadata": {},
   "outputs": [
    {
     "name": "stdout",
     "output_type": "stream",
     "text": [
      "0\n",
      "5\n",
      "11\n",
      "15\n",
      "21\n",
      "27\n",
      "<generator object index_words at 0x000001936BA45120>\n",
      "0\n",
      "[5, 11]\n"
     ]
    }
   ],
   "source": [
    "def index_words(text): \n",
    "    if text:\n",
    "        yield 0\n",
    "    for index, letter in enumerate(text):\n",
    "        if letter == ' ':\n",
    "            yield index + 1\n",
    "\n",
    "addr = \"four score and seven years ago\"\n",
    "for i in index_words(addr):\n",
    "    print (i)\n",
    "it = index_words(addr)\n",
    "print(it)\n",
    "print(next(it))\n",
    "\n",
    "import itertools\n",
    "results = itertools.islice(it, 0, 2)\n",
    "print(list(results))"
   ]
  },
  {
   "cell_type": "markdown",
   "id": "3ca46845",
   "metadata": {},
   "source": [
    "### be defensive: \n",
    "say we have this function that sum a list once and caculate each element's percentage. we call it on list its ok but not when a generator is passed, it does not work."
   ]
  },
  {
   "cell_type": "code",
   "execution_count": 41,
   "id": "257f38c9",
   "metadata": {},
   "outputs": [
    {
     "ename": "TypeError",
     "evalue": "Must supply a container",
     "output_type": "error",
     "traceback": [
      "\u001b[1;31m---------------------------------------------------------------------------\u001b[0m",
      "\u001b[1;31mTypeError\u001b[0m                                 Traceback (most recent call last)",
      "\u001b[1;32m~\\AppData\\Local\\Temp/ipykernel_32824/696941524.py\u001b[0m in \u001b[0;36m<module>\u001b[1;34m\u001b[0m\n\u001b[0;32m     18\u001b[0m \u001b[0mli\u001b[0m \u001b[1;33m=\u001b[0m \u001b[1;33m[\u001b[0m\u001b[1;36m1\u001b[0m\u001b[1;33m,\u001b[0m\u001b[1;36m2\u001b[0m\u001b[1;33m,\u001b[0m\u001b[1;36m3\u001b[0m\u001b[1;33m,\u001b[0m\u001b[1;36m4\u001b[0m\u001b[1;33m,\u001b[0m\u001b[1;36m5\u001b[0m\u001b[1;33m]\u001b[0m\u001b[1;33m\u001b[0m\u001b[1;33m\u001b[0m\u001b[0m\n\u001b[0;32m     19\u001b[0m \u001b[0mit\u001b[0m \u001b[1;33m=\u001b[0m \u001b[0mread_visits\u001b[0m\u001b[1;33m(\u001b[0m\u001b[0mli\u001b[0m\u001b[1;33m)\u001b[0m\u001b[1;33m\u001b[0m\u001b[1;33m\u001b[0m\u001b[0m\n\u001b[1;32m---> 20\u001b[1;33m \u001b[0mpercentage\u001b[0m \u001b[1;33m=\u001b[0m \u001b[0mnormalize\u001b[0m\u001b[1;33m(\u001b[0m\u001b[0mit\u001b[0m\u001b[1;33m)\u001b[0m\u001b[1;33m\u001b[0m\u001b[1;33m\u001b[0m\u001b[0m\n\u001b[0m\u001b[0;32m     21\u001b[0m \u001b[0mpercent\u001b[0m \u001b[1;33m=\u001b[0m \u001b[0mnormalize\u001b[0m\u001b[1;33m(\u001b[0m\u001b[0mli\u001b[0m\u001b[1;33m)\u001b[0m\u001b[1;33m\u001b[0m\u001b[1;33m\u001b[0m\u001b[0m\n\u001b[0;32m     22\u001b[0m \u001b[1;33m\u001b[0m\u001b[0m\n",
      "\u001b[1;32m~\\AppData\\Local\\Temp/ipykernel_32824/696941524.py\u001b[0m in \u001b[0;36mnormalize\u001b[1;34m(numbers)\u001b[0m\n\u001b[0;32m      3\u001b[0m     \u001b[1;31m# first iteration\u001b[0m\u001b[1;33m\u001b[0m\u001b[1;33m\u001b[0m\u001b[1;33m\u001b[0m\u001b[0m\n\u001b[0;32m      4\u001b[0m     \u001b[1;32mif\u001b[0m \u001b[0misinstance\u001b[0m\u001b[1;33m(\u001b[0m\u001b[0mnumbers\u001b[0m\u001b[1;33m,\u001b[0m \u001b[0mIterator\u001b[0m\u001b[1;33m)\u001b[0m\u001b[1;33m:\u001b[0m \u001b[1;31m# Another way to check\u001b[0m\u001b[1;33m\u001b[0m\u001b[1;33m\u001b[0m\u001b[0m\n\u001b[1;32m----> 5\u001b[1;33m         \u001b[1;32mraise\u001b[0m \u001b[0mTypeError\u001b[0m\u001b[1;33m(\u001b[0m\u001b[1;34m'Must supply a container'\u001b[0m\u001b[1;33m)\u001b[0m\u001b[1;33m\u001b[0m\u001b[1;33m\u001b[0m\u001b[0m\n\u001b[0m\u001b[0;32m      6\u001b[0m     \u001b[0mtotal\u001b[0m \u001b[1;33m=\u001b[0m \u001b[0msum\u001b[0m\u001b[1;33m(\u001b[0m\u001b[0mnumbers\u001b[0m\u001b[1;33m)\u001b[0m\u001b[1;33m\u001b[0m\u001b[1;33m\u001b[0m\u001b[0m\n\u001b[0;32m      7\u001b[0m     \u001b[0mresult\u001b[0m \u001b[1;33m=\u001b[0m \u001b[1;33m[\u001b[0m\u001b[1;33m]\u001b[0m\u001b[1;33m\u001b[0m\u001b[1;33m\u001b[0m\u001b[0m\n",
      "\u001b[1;31mTypeError\u001b[0m: Must supply a container"
     ]
    }
   ],
   "source": [
    "from collections.abc import Iterator\n",
    "def normalize(numbers):\n",
    "    # defense here causing error message below\n",
    "    if isinstance(numbers, Iterator): # Another way to check\n",
    "        raise TypeError('Must supply a container')\n",
    "    # first iteration\n",
    "    total = sum(numbers)\n",
    "    result = []\n",
    "    \n",
    "    # second iteration\n",
    "    for value in numbers:\n",
    "        percent = 100 * value / total\n",
    "        result.append(percent)\n",
    "    return result\n",
    "\n",
    "def read_visits(address):\n",
    "    yield from address\n",
    "\n",
    "li = [1,2,3,4,5]\n",
    "it = read_visits(li)\n",
    "percentage = normalize(it)\n",
    "percent = normalize(li)\n",
    "\n",
    "# notice the generator wants to iterate twice, \n",
    "# but is only allowed to iterate once\n",
    "print(percentage, percent)"
   ]
  },
  {
   "cell_type": "markdown",
   "id": "8f002000",
   "metadata": {},
   "source": [
    "- one solution is artificially exhaust the list and iterate it\n",
    "- second solution is to pass in a lambda function\n",
    "- thid is to just build a class"
   ]
  },
  {
   "cell_type": "code",
   "execution_count": 43,
   "id": "5b0f707d",
   "metadata": {},
   "outputs": [
    {
     "name": "stdout",
     "output_type": "stream",
     "text": [
      "[6.666666666666667, 13.333333333333334, 20.0, 26.666666666666668, 33.333333333333336] [6.666666666666667, 13.333333333333334, 20.0, 26.666666666666668, 33.333333333333336]\n"
     ]
    }
   ],
   "source": [
    "class ReadVisit: \n",
    "    def __init__(self, text): \n",
    "        self.text = text\n",
    "    \n",
    "    def __iter__(self):\n",
    "        yield from self.text\n",
    "\n",
    "li = [1,2,3,4,5]\n",
    "it = ReadVisit(li)\n",
    "percentage = normalize(it)\n",
    "percent = normalize(li)\n",
    "print(percentage, percent)"
   ]
  },
  {
   "cell_type": "markdown",
   "id": "5497eef3",
   "metadata": {},
   "source": [
    "One may look to chain iterator, very efficient.\n",
    "These are stateful tho\n",
    "\n",
    "### use yield from to build iterator from multi sources\n",
    "\n",
    "### Know that you can send stuff into generator\n",
    "below is an example chat bot yield co-routine"
   ]
  },
  {
   "cell_type": "code",
   "execution_count": 62,
   "id": "376ba60d",
   "metadata": {},
   "outputs": [
    {
     "name": "stdout",
     "output_type": "stream",
     "text": [
      "can I help you?\n",
      "Poggers\n"
     ]
    }
   ],
   "source": [
    "import random\n",
    "\n",
    "def bot():\n",
    "    ans = [\"fuck you\", \"Move out of the way, bitch\", \"Screw off\", \n",
    "           \"Poggers\", \"Hog\"]\n",
    "    yield \"can I help you?\"\n",
    "    s = \"\"\n",
    "    while True:\n",
    "        if s is None:\n",
    "            break\n",
    "        s = yield random.choice(ans)\n",
    "        \n",
    "        \n",
    "g = bot()\n",
    "print(next(g))\n",
    "print(g.send(\"stupid?\"))\n"
   ]
  },
  {
   "cell_type": "markdown",
   "id": "495d63de",
   "metadata": {},
   "source": [
    "## Classes\n",
    "\n",
    "### Build classes dont nest \n",
    "- also namedTuple is basically like stackm use it\n",
    "### Accept functions instead of classes for simple interfaces\n",
    "- also you can override \\_\\_call\\_\\_ to make a class callable\n",
    "\n",
    "### classmethod polymorphism and Mixin Class"
   ]
  },
  {
   "cell_type": "code",
   "execution_count": 25,
   "id": "d58d023b",
   "metadata": {},
   "outputs": [
    {
     "name": "stdout",
     "output_type": "stream",
     "text": [
      "Gas{'quant': 100} Gas{'quant': 100} Premium{'quant': 100} Premium{'quant': 1866}\n"
     ]
    }
   ],
   "source": [
    "class Stringer:\n",
    "    \n",
    "    def __repr__(self):\n",
    "        return str(self.__class__.__name__) + str(self.__dict__)\n",
    "            \n",
    "class Gas(Stringer):\n",
    "    \n",
    "    def __init__(self, quant):\n",
    "        self.quant = quant\n",
    "    \n",
    "    def burn(distance): \n",
    "        pass \n",
    "    \n",
    "    \n",
    "    # try removing the tag, then one will need to supply class definition. \n",
    "    @classmethod\n",
    "    def fill(cls, dist):\n",
    "        if isinstance(dist, int):\n",
    "            return cls(dist)\n",
    "        elif isinstance(dist, list):\n",
    "            return cls(sum(dist))\n",
    "        else:\n",
    "            return None\n",
    "\n",
    "class Premium(Gas): \n",
    "    def burn(distance):        \n",
    "        self.quant -= distance // 10\n",
    "\n",
    "class Regular(Gas):\n",
    "    def burn(distance):\n",
    "        self.quant -= distance\n",
    "\n",
    "ori = Gas(100)\n",
    "gas = Gas.fill(100)\n",
    "good = Premium.fill(100)\n",
    "goodli = Premium.fill([100, 10, 23, 1423, 97, 213])\n",
    "print(ori, gas, good, goodli)"
   ]
  },
  {
   "cell_type": "markdown",
   "id": "75b9339d",
   "metadata": {},
   "source": [
    "### Use Sequence"
   ]
  },
  {
   "cell_type": "code",
   "execution_count": 42,
   "id": "29f0e814",
   "metadata": {},
   "outputs": [
    {
     "name": "stdout",
     "output_type": "stream",
     "text": [
      "N(1)\n",
      "N(3)\n",
      "N(5)\n",
      "3\n",
      "N(5)\n"
     ]
    }
   ],
   "source": [
    "from collections.abc import Sequence \n",
    "\n",
    "class N(Sequence):\n",
    "    def __init__(self, val=0, left=None, right=None):\n",
    "        self.val = val\n",
    "        self.left = left\n",
    "        self.right = right\n",
    "    \n",
    "    def __repr__(self):\n",
    "        return f'N({self.val})'\n",
    "    \n",
    "    def __len__(self):\n",
    "        for i, j in enumerate(self._traverse()):\n",
    "            pass\n",
    "        return i + 1\n",
    "    \n",
    "    def _traverse(self):\n",
    "        if self.left:\n",
    "            yield from self.left._traverse()\n",
    "        yield self\n",
    "        if self.right:\n",
    "            yield from self.right._traverse()\n",
    "    \n",
    "    def __getitem__(self, index):\n",
    "        for i, item in enumerate(self._traverse()):\n",
    "            if i == index:\n",
    "                return item\n",
    "        raise IndexError(f'index#{index} is not found in our Tree')\n",
    "\n",
    "root = N(3,N(1), N(5))\n",
    "for i in root._traverse():\n",
    "    print(i)\n",
    "print(len(root))\n",
    "print(root[2])"
   ]
  },
  {
   "cell_type": "markdown",
   "id": "d5fa8d22",
   "metadata": {},
   "source": [
    "### Descriptor and separate object for object\n"
   ]
  },
  {
   "cell_type": "code",
   "execution_count": 61,
   "id": "68cc96a6",
   "metadata": {},
   "outputs": [
    {
     "name": "stdout",
     "output_type": "stream",
     "text": [
      "97 97\n",
      "98 97\n",
      "98 97\n"
     ]
    }
   ],
   "source": [
    "class Grade:\n",
    "    \n",
    "    def __init__(self): \n",
    "        self.val = 0\n",
    "    \n",
    "    \n",
    "    def __set__(self, instance, value):\n",
    "        self.val = value\n",
    "    \n",
    "    def __get__(self, instance, instance_type):\n",
    "        return self.val\n",
    "\n",
    "class Exam:\n",
    "    algebra_exam = Grade()\n",
    "    english_exam = Grade()\n",
    "    science_exam = Grade()\n",
    "\n",
    "ben = Exam()\n",
    "ben.algebra_exam = 98\n",
    "jen = Exam()\n",
    "jen.algebra_exam = 97\n",
    "# notice the fuck up here\n",
    "print(ben.algebra_exam, jen.algebra_exam)\n",
    "\n",
    "\n",
    "# Solution 1 \n",
    "class ExamInst:\n",
    "    def __init__(self):\n",
    "        self.algebra_exam = Grade()\n",
    "        self.english_exam = Grade()\n",
    "        self.science_exam = Grade()\n",
    "\n",
    "ben = ExamInst()\n",
    "ben.algebra_exam = 98\n",
    "jen = ExamInst()\n",
    "jen.algebra_exam = 97\n",
    "print(ben.algebra_exam, jen.algebra_exam)\n",
    "\n",
    "\n",
    "# Solution 2\n",
    "# Concept here is to have one single class variable for each subject for all exams, \n",
    "# so say we have 500 students that is 500 exam objects and 3 Grade object. \n",
    "# the grade object stores a dictionary of the instance: value pair.\n",
    "class Grade:\n",
    "    \n",
    "    def __init__(self): \n",
    "        self.val = dict()\n",
    "    \n",
    "    \n",
    "    def __set__(self, instance, value):\n",
    "        self.val[instance] = value\n",
    "    \n",
    "    def __get__(self, instance, instance_type):\n",
    "        return self.val[instance]\n",
    "\n",
    "class Exam:\n",
    "    algebra_exam = Grade()\n",
    "    english_exam = Grade()\n",
    "    science_exam = Grade()\n",
    "\n",
    "ben = Exam()\n",
    "ben.algebra_exam = 98\n",
    "jen = Exam()\n",
    "jen.algebra_exam = 97\n",
    "print(ben.algebra_exam, jen.algebra_exam)"
   ]
  },
  {
   "cell_type": "markdown",
   "id": "42237c2f",
   "metadata": {},
   "source": [
    "### __get__ vs __getattr__ vs __getattribute___\n",
    "- get is a descriptor, example is as above\n",
    "- getattr is only called when a missing key is called\n",
    "- getattribute is called anytime, so use super().\\_\\_getattribute\\_\\_ or object.getattributes"
   ]
  },
  {
   "cell_type": "markdown",
   "id": "804e1733",
   "metadata": {},
   "source": [
    "###  \\_\\_init_subclass\\_\\_"
   ]
  },
  {
   "cell_type": "code",
   "execution_count": 63,
   "id": "657aee9f",
   "metadata": {},
   "outputs": [
    {
     "ename": "ValueError",
     "evalue": "Polygons need 3+ sides",
     "output_type": "error",
     "traceback": [
      "\u001b[1;31m---------------------------------------------------------------------------\u001b[0m",
      "\u001b[1;31mValueError\u001b[0m                                Traceback (most recent call last)",
      "\u001b[1;32m~\\AppData\\Local\\Temp/ipykernel_12428/1382538827.py\u001b[0m in \u001b[0;36m<module>\u001b[1;34m\u001b[0m\n\u001b[0;32m     14\u001b[0m     \u001b[0msides\u001b[0m \u001b[1;33m=\u001b[0m \u001b[1;36m6\u001b[0m\u001b[1;33m\u001b[0m\u001b[1;33m\u001b[0m\u001b[0m\n\u001b[0;32m     15\u001b[0m \u001b[1;33m\u001b[0m\u001b[0m\n\u001b[1;32m---> 16\u001b[1;33m \u001b[1;32mclass\u001b[0m \u001b[0mSurface\u001b[0m\u001b[1;33m(\u001b[0m\u001b[0mBetterPolygon\u001b[0m\u001b[1;33m)\u001b[0m\u001b[1;33m:\u001b[0m\u001b[1;33m\u001b[0m\u001b[1;33m\u001b[0m\u001b[0m\n\u001b[0m\u001b[0;32m     17\u001b[0m     \u001b[0msides\u001b[0m \u001b[1;33m=\u001b[0m \u001b[1;36m2\u001b[0m\u001b[1;33m\u001b[0m\u001b[1;33m\u001b[0m\u001b[0m\n",
      "\u001b[1;32m~\\AppData\\Local\\Temp/ipykernel_12428/1382538827.py\u001b[0m in \u001b[0;36m__init_subclass__\u001b[1;34m(cls)\u001b[0m\n\u001b[0;32m      5\u001b[0m         \u001b[0msuper\u001b[0m\u001b[1;33m(\u001b[0m\u001b[1;33m)\u001b[0m\u001b[1;33m.\u001b[0m\u001b[0m__init_subclass__\u001b[0m\u001b[1;33m(\u001b[0m\u001b[1;33m)\u001b[0m\u001b[1;33m\u001b[0m\u001b[1;33m\u001b[0m\u001b[0m\n\u001b[0;32m      6\u001b[0m         \u001b[1;32mif\u001b[0m \u001b[0mcls\u001b[0m\u001b[1;33m.\u001b[0m\u001b[0msides\u001b[0m \u001b[1;33m<\u001b[0m \u001b[1;36m3\u001b[0m\u001b[1;33m:\u001b[0m\u001b[1;33m\u001b[0m\u001b[1;33m\u001b[0m\u001b[0m\n\u001b[1;32m----> 7\u001b[1;33m             \u001b[1;32mraise\u001b[0m \u001b[0mValueError\u001b[0m\u001b[1;33m(\u001b[0m\u001b[1;34m'Polygons need 3+ sides'\u001b[0m\u001b[1;33m)\u001b[0m\u001b[1;33m\u001b[0m\u001b[1;33m\u001b[0m\u001b[0m\n\u001b[0m\u001b[0;32m      8\u001b[0m \u001b[1;33m\u001b[0m\u001b[0m\n\u001b[0;32m      9\u001b[0m     \u001b[1;33m@\u001b[0m\u001b[0mclassmethod\u001b[0m\u001b[1;33m\u001b[0m\u001b[1;33m\u001b[0m\u001b[0m\n",
      "\u001b[1;31mValueError\u001b[0m: Polygons need 3+ sides"
     ]
    }
   ],
   "source": [
    "class BetterPolygon:\n",
    "    sides = None # Must be specified by subclasses\n",
    "    \n",
    "    def __init_subclass__(cls):\n",
    "        super().__init_subclass__()\n",
    "        if cls.sides < 3:\n",
    "            raise ValueError('Polygons need 3+ sides')\n",
    "\n",
    "    @classmethod\n",
    "    def interior_angles(cls):\n",
    "        return (cls.sides - 2) * 180\n",
    "\n",
    "class Hexagon(BetterPolygon):\n",
    "    sides = 6\n",
    "\n",
    "# notice the error message below\n",
    "class Surface(BetterPolygon):\n",
    "    sides = 2"
   ]
  },
  {
   "cell_type": "markdown",
   "id": "e1467949",
   "metadata": {},
   "source": [
    "## Concurrency vs Parallelism\n",
    "- concurrency is running multiple programs one a single core by jumping and swtiching between them.\n",
    "- Parallelism is running multiple programs at the same time on different cores.\n",
    "\n",
    "### Using sub processes to manage child processes"
   ]
  },
  {
   "cell_type": "code",
   "execution_count": 13,
   "id": "4a8edc92",
   "metadata": {},
   "outputs": [
    {
     "name": "stdout",
     "output_type": "stream",
     "text": [
      "None\n"
     ]
    }
   ],
   "source": [
    "import subprocess\n",
    "\n",
    "result = subprocess.run(\n",
    "    ['echo', 'Hello'], \n",
    "    capture_output = True,\n",
    "    encoding = 'utf-8',\n",
    "    shell=True)\n",
    "print(result.check_returncode())"
   ]
  },
  {
   "cell_type": "markdown",
   "id": "8e7d4ebd",
   "metadata": {},
   "source": [
    "Child process polling"
   ]
  },
  {
   "cell_type": "code",
   "execution_count": 17,
   "id": "9e70cc9a",
   "metadata": {},
   "outputs": [
    {
     "name": "stdout",
     "output_type": "stream",
     "text": [
      "working\n",
      "working\n",
      "working\n",
      "working\n",
      "working\n",
      "working\n",
      "working\n",
      "working\n",
      "working\n",
      "working\n",
      "working\n",
      "working\n",
      "working\n",
      "working\n",
      "working\n",
      "working\n",
      "working\n",
      "working\n",
      "working\n",
      "working\n",
      "working\n",
      "working\n",
      "working\n",
      "working\n",
      "working\n",
      "working\n",
      "working\n",
      "working\n",
      "working\n",
      "working\n",
      "working\n",
      "working\n",
      "working\n",
      "working\n",
      "working\n",
      "working\n",
      "working\n",
      "working\n",
      "working\n",
      "working\n",
      "working\n",
      "working\n",
      "working\n",
      "working\n",
      "working\n",
      "working\n",
      "working\n",
      "working\n",
      "working\n",
      "working\n",
      "working\n",
      "working\n",
      "working\n",
      "working\n",
      "working\n",
      "working\n",
      "working\n",
      "working\n",
      "working\n",
      "working\n",
      "working\n",
      "working\n",
      "working\n",
      "working\n",
      "working\n",
      "working\n",
      "working\n",
      "working\n",
      "working\n",
      "working\n",
      "working\n",
      "working\n",
      "working\n",
      "working\n",
      "working\n",
      "working\n",
      "working\n",
      "working\n",
      "working\n",
      "working\n",
      "working\n",
      "working\n",
      "working\n",
      "exit satus 1\n"
     ]
    }
   ],
   "source": [
    "proc = subprocess.Popen(['sleep', '1'], shell=True)\n",
    "while proc.poll() is None:\n",
    "    print('working')\n",
    "print('exit satus', proc.poll())"
   ]
  },
  {
   "cell_type": "code",
   "execution_count": 19,
   "id": "52aa42ff",
   "metadata": {},
   "outputs": [
    {
     "name": "stdout",
     "output_type": "stream",
     "text": [
      "Finished in 0.245 seconds\n"
     ]
    }
   ],
   "source": [
    "import time\n",
    "start = time.time()\n",
    "sleep_procs = []\n",
    "for _ in range(10):\n",
    "    proc = subprocess.Popen(['sleep', '1'], shell=True)\n",
    "    sleep_procs.append(proc)\n",
    "    \n",
    "for proc in sleep_procs:\n",
    "    proc.communicate()\n",
    "end = time.time()\n",
    "delta = end - start\n",
    "print(f'Finished in {delta:.3} seconds')"
   ]
  },
  {
   "cell_type": "code",
   "execution_count": 26,
   "id": "b43b4cec",
   "metadata": {},
   "outputs": [
    {
     "name": "stdout",
     "output_type": "stream",
     "text": [
      "b\"\\xb9Z\\xb4MW\\x06'\\x12\\x92\\x04\"\n",
      "b'\\x95\\xff\\x07\\xa1\\t\\x04<V\\xbb\\xec'\n",
      "b'\\x04<e\\xe9\\x13\\x06\\x17J\\xaa\\x1f'\n",
      "b''\n",
      "b''\n",
      "b''\n"
     ]
    }
   ],
   "source": [
    "# this example doesnt work because I dont have openssl and on windows, \n",
    "# but the concept should be understood tho.\n",
    "import os \n",
    "def run_encrypt(data):\n",
    "    env = os.environ.copy()\n",
    "    env['password'] = 'zf7ShyBhZOraQDdE/FiZpm/m/8f9X+M1'\n",
    "    proc = subprocess.Popen(\n",
    "        ['openssl', 'enc', '-des3', '-pass', 'env:password'],\n",
    "        env=env,\n",
    "        stdin=subprocess.PIPE,\n",
    "        stdout=subprocess.PIPE,\n",
    "        shell=True)\n",
    "    proc.stdin.write(data)\n",
    "    proc.stdin.flush() # Ensure that the child gets input\n",
    "    return proc\n",
    "\n",
    "procs = []\n",
    "for _ in range(3):\n",
    "    data = os.urandom(10)\n",
    "    # print(data)\n",
    "    proc = run_encrypt(data)\n",
    "    procs.append(proc)\n",
    "    \n",
    "for proc in procs: \n",
    "    out, _ = proc.communicate()\n",
    "    print(out[-10:])\n"
   ]
  },
  {
   "cell_type": "markdown",
   "id": "2298c718",
   "metadata": {},
   "source": [
    "### Blocking I/O blocks\n",
    "in python it doesnt make sense to parallel threads lolololol"
   ]
  },
  {
   "cell_type": "code",
   "execution_count": 30,
   "id": "a7a8349b",
   "metadata": {},
   "outputs": [
    {
     "name": "stdout",
     "output_type": "stream",
     "text": [
      "Took 3.791 seconds\n"
     ]
    }
   ],
   "source": [
    "# series execution\n",
    "def fa(n):\n",
    "    for i in range(1, n + 1):\n",
    "        if n % i == 0:\n",
    "            yield i\n",
    "\n",
    "import time \n",
    "numbers = [12312321, 31231, 25234234, 9890434]\n",
    "start = time.time()\n",
    "for n in numbers:\n",
    "    list(fa(n))\n",
    "\n",
    "delta = time.time() - start\n",
    "print(f'Took {delta:.3f} seconds')"
   ]
  },
  {
   "cell_type": "code",
   "execution_count": 34,
   "id": "7c983137",
   "metadata": {},
   "outputs": [
    {
     "name": "stdout",
     "output_type": "stream",
     "text": [
      "Took 4.096 seconds\n"
     ]
    }
   ],
   "source": [
    "from threading import Thread\n",
    "class Fa(Thread):\n",
    "    def __init__(self, n):\n",
    "        super().__init__()\n",
    "        self.n = n\n",
    "    \n",
    "    def run(self):\n",
    "        self.factors = list(fa(self.n))\n",
    "\n",
    "start = time.time()\n",
    "ths = []\n",
    "for n in numbers:\n",
    "    t = Fa(n)\n",
    "    t.start()\n",
    "    ths.append(t)\n",
    "\n",
    "for t in ths:\n",
    "    t.join()\n",
    "delta = time.time() - start\n",
    "print(f'Took {delta:.3f} seconds')"
   ]
  },
  {
   "cell_type": "markdown",
   "id": "2b11d3ef",
   "metadata": {},
   "source": [
    "The above is where threading does not make sense, below is where it does\n",
    "GIL locks python calls, but no effect on system calls"
   ]
  },
  {
   "cell_type": "code",
   "execution_count": 35,
   "id": "c0bcbbbc",
   "metadata": {},
   "outputs": [
    {
     "name": "stdout",
     "output_type": "stream",
     "text": [
      "Took 0.551 seconds\n"
     ]
    }
   ],
   "source": [
    "import select\n",
    "import socket\n",
    "def slow_systemcall():\n",
    "    select.select([socket.socket()], [], [], 0.1)\n",
    "\n",
    "start = time.time()\n",
    "for _ in range(5):\n",
    "    slow_systemcall()\n",
    "end = time.time()\n",
    "delta = end - start\n",
    "print(f'Took {delta:.3f} seconds')"
   ]
  },
  {
   "cell_type": "code",
   "execution_count": 37,
   "id": "e9865c30",
   "metadata": {},
   "outputs": [
    {
     "name": "stdout",
     "output_type": "stream",
     "text": [
      "Took 0.121 seconds\n"
     ]
    }
   ],
   "source": [
    "start = time.time()\n",
    "threads = []\n",
    "for _ in range(5):\n",
    "    thread = Thread(target=slow_systemcall)\n",
    "    thread.start()\n",
    "    threads.append(thread)\n",
    "def compute_helicopter_location(index):\n",
    "    pass \n",
    "\n",
    "for i in range(5):\n",
    "    compute_helicopter_location(i)\n",
    "    \n",
    "for thread in threads:\n",
    "    thread.join()\n",
    "end = time.time()\n",
    "delta = end - start\n",
    "print(f'Took {delta:.3f} seconds')"
   ]
  },
  {
   "cell_type": "markdown",
   "id": "dc3090ba",
   "metadata": {},
   "source": [
    "### Using Lock class to prevent data racing\n",
    "say we have a counter object that keep track of increments in 5 threads. \n",
    "Because the increments is basically, get add and set, the thread may be paused anytime, and the set may be lower befor considering other thread's set"
   ]
  },
  {
   "cell_type": "code",
   "execution_count": 117,
   "id": "6b715f34",
   "metadata": {},
   "outputs": [
    {
     "name": "stdout",
     "output_type": "stream",
     "text": [
      "500000 500000\n",
      "500000 500000\n",
      "500000 500000\n",
      "time: 9.941\n"
     ]
    }
   ],
   "source": [
    "from threading import Thread\n",
    "from threading import Lock\n",
    "class C: \n",
    "    \n",
    "    # fixed with line 1 and 2\n",
    "    def __init__(self):\n",
    "        self.lock = Lock() # Line 1\n",
    "        self.c = 0\n",
    "    \n",
    "    def i(self, offset=1):\n",
    "        with self.lock: # line 2\n",
    "            self.c += offset\n",
    "\n",
    "def worker(sensor_id, N, c):\n",
    "    for _ in range(N):\n",
    "        c.i()\n",
    "        \n",
    "N = 10 ** 5\n",
    "c = C()\n",
    "th = []\n",
    "\n",
    "# Notice the difference in counting\n",
    "start = time.time()\n",
    "for _ in range(3):\n",
    "    c.c = 0\n",
    "    for i in range(5):\n",
    "        t = Thread(target=worker, args=(i, N, c))\n",
    "        th.append(t)\n",
    "        t.start()\n",
    "\n",
    "    for t in th:\n",
    "        t.join()\n",
    "    print(c.c, 5 * N)\n",
    "end = time.time()\n",
    "print(f'time: {end - start:0.3f}')"
   ]
  },
  {
   "cell_type": "markdown",
   "id": "f7780c28",
   "metadata": {},
   "source": [
    "### Use Queue to Coordinate Work between Threads\n",
    "Python programs that do many things concurrently often needs to coordinate works."
   ]
  },
  {
   "cell_type": "code",
   "execution_count": 133,
   "id": "d5e3dc85",
   "metadata": {},
   "outputs": [
    {
     "name": "stdout",
     "output_type": "stream",
     "text": [
      "consumer Waitingproducer put 0\n",
      "producer don 0\n",
      "producer put 1\n",
      "producer don 1\n",
      "producer put 2\n",
      "\n",
      "consumer Got 0\n",
      "consumer Waiting\n",
      "consumer Got 1\n",
      "consumer Waiting\n",
      "producer don 2\n",
      "producer put 3\n",
      "producer don 3\n",
      "producer put 4\n",
      "consumer Got 2producer don 4\n",
      "producer put 5\n",
      "\n",
      "consumer Waiting\n",
      "consumer Waitingconsumer Got 3\n",
      "consumer Waiting\n",
      "consumer Got 4\n",
      "consumer Waiting\n",
      "\n",
      "producer don 5consumer Got 5\n",
      "consumer Waiting\n",
      "\n",
      "producer put 6\n",
      "producer don 6\n",
      "producer put 7\n",
      "producer don 7\n",
      "producer put 8\n",
      "consumer Got 6\n",
      "consumer Waiting\n",
      "consumer Got 7\n",
      "consumer Waiting\n",
      "producer don 8\n",
      "producer put 9\n",
      "producer don 9\n",
      "consumer Got 8consumer Got 9\n",
      "consumer Waiting\n",
      "\n",
      "consumer Waiting\n"
     ]
    }
   ],
   "source": [
    "from queue import Queue\n",
    "mq = Queue(2)\n",
    "def consumer():\n",
    "    while True:\n",
    "        print(\"consumer Waiting\")\n",
    "        i = mq.get()\n",
    "        print(f\"consumer Got {i}\")\n",
    "    \n",
    "th = Thread(target=consumer)\n",
    "th.start()\n",
    "\n",
    "def producer(N):\n",
    "    for i in range(N):\n",
    "        print(f'producer put {i}')\n",
    "        mq.put(i)\n",
    "        print(f'producer don {i}')\n",
    "pr = Thread(target=producer, args=(10,))\n",
    "pr.start()\n",
    "th = Thread(target=consumer)\n",
    "th.start()"
   ]
  },
  {
   "cell_type": "code",
   "execution_count": 148,
   "id": "8bd87df7",
   "metadata": {},
   "outputs": [
    {
     "name": "stderr",
     "output_type": "stream",
     "text": [
      "D:\\Program Files\\Python\\lib\\concurrent\\futures\\thread.py:117: RuntimeWarning: coroutine 'wait' was never awaited\n",
      "  def __init__(self, max_workers=None, thread_name_prefix='',\n",
      "RuntimeWarning: Enable tracemalloc to get the object allocation traceback\n",
      "D:\\Program Files\\Python\\lib\\concurrent\\futures\\thread.py:117: RuntimeWarning: coroutine 'within' was never awaited\n",
      "  def __init__(self, max_workers=None, thread_name_prefix='',\n",
      "RuntimeWarning: Enable tracemalloc to get the object allocation traceback\n"
     ]
    },
    {
     "ename": "BrokenProcessPool",
     "evalue": "A process in the process pool was terminated abruptly while the future was running or pending.",
     "output_type": "error",
     "traceback": [
      "\u001b[1;31m---------------------------------------------------------------------------\u001b[0m",
      "\u001b[1;31mBrokenProcessPool\u001b[0m                         Traceback (most recent call last)",
      "\u001b[1;32m~\\AppData\\Local\\Temp/ipykernel_20844/1525963131.py\u001b[0m in \u001b[0;36m<module>\u001b[1;34m\u001b[0m\n\u001b[0;32m     26\u001b[0m \u001b[1;33m\u001b[0m\u001b[0m\n\u001b[0;32m     27\u001b[0m \u001b[1;32mif\u001b[0m \u001b[0m__name__\u001b[0m \u001b[1;33m==\u001b[0m \u001b[1;34m'__main__'\u001b[0m\u001b[1;33m:\u001b[0m\u001b[1;33m\u001b[0m\u001b[1;33m\u001b[0m\u001b[0m\n\u001b[1;32m---> 28\u001b[1;33m     \u001b[0mmain\u001b[0m\u001b[1;33m(\u001b[0m\u001b[1;33m)\u001b[0m\u001b[1;33m\u001b[0m\u001b[1;33m\u001b[0m\u001b[0m\n\u001b[0m",
      "\u001b[1;32m~\\AppData\\Local\\Temp/ipykernel_20844/1525963131.py\u001b[0m in \u001b[0;36mmain\u001b[1;34m()\u001b[0m\n\u001b[0;32m     20\u001b[0m     \u001b[0mstart\u001b[0m \u001b[1;33m=\u001b[0m \u001b[0mtime\u001b[0m\u001b[1;33m.\u001b[0m\u001b[0mtime\u001b[0m\u001b[1;33m(\u001b[0m\u001b[1;33m)\u001b[0m\u001b[1;33m\u001b[0m\u001b[1;33m\u001b[0m\u001b[0m\n\u001b[0;32m     21\u001b[0m     \u001b[0mpool\u001b[0m \u001b[1;33m=\u001b[0m \u001b[0mProcessPoolExecutor\u001b[0m\u001b[1;33m(\u001b[0m\u001b[0mmax_workers\u001b[0m\u001b[1;33m=\u001b[0m\u001b[1;36m2\u001b[0m\u001b[1;33m)\u001b[0m \u001b[1;31m# The one change\u001b[0m\u001b[1;33m\u001b[0m\u001b[1;33m\u001b[0m\u001b[0m\n\u001b[1;32m---> 22\u001b[1;33m     \u001b[0mresults\u001b[0m \u001b[1;33m=\u001b[0m \u001b[0mlist\u001b[0m\u001b[1;33m(\u001b[0m\u001b[0mpool\u001b[0m\u001b[1;33m.\u001b[0m\u001b[0mmap\u001b[0m\u001b[1;33m(\u001b[0m\u001b[0mgcd\u001b[0m\u001b[1;33m,\u001b[0m \u001b[0mNUMBERS\u001b[0m\u001b[1;33m)\u001b[0m\u001b[1;33m)\u001b[0m\u001b[1;33m\u001b[0m\u001b[1;33m\u001b[0m\u001b[0m\n\u001b[0m\u001b[0;32m     23\u001b[0m     \u001b[0mend\u001b[0m \u001b[1;33m=\u001b[0m \u001b[0mtime\u001b[0m\u001b[1;33m.\u001b[0m\u001b[0mtime\u001b[0m\u001b[1;33m(\u001b[0m\u001b[1;33m)\u001b[0m\u001b[1;33m\u001b[0m\u001b[1;33m\u001b[0m\u001b[0m\n\u001b[0;32m     24\u001b[0m     \u001b[0mdelta\u001b[0m \u001b[1;33m=\u001b[0m \u001b[0mend\u001b[0m \u001b[1;33m-\u001b[0m \u001b[0mstart\u001b[0m\u001b[1;33m\u001b[0m\u001b[1;33m\u001b[0m\u001b[0m\n",
      "\u001b[1;32mD:\\Program Files\\Python\\lib\\concurrent\\futures\\process.py\u001b[0m in \u001b[0;36m_chain_from_iterable_of_lists\u001b[1;34m(iterable)\u001b[0m\n\u001b[0;32m    557\u001b[0m     \u001b[0mcareful\u001b[0m \u001b[1;32mnot\u001b[0m \u001b[0mto\u001b[0m \u001b[0mkeep\u001b[0m \u001b[0mreferences\u001b[0m \u001b[0mto\u001b[0m \u001b[0myielded\u001b[0m \u001b[0mobjects\u001b[0m\u001b[1;33m.\u001b[0m\u001b[1;33m\u001b[0m\u001b[1;33m\u001b[0m\u001b[0m\n\u001b[0;32m    558\u001b[0m     \"\"\"\n\u001b[1;32m--> 559\u001b[1;33m     \u001b[1;32mfor\u001b[0m \u001b[0melement\u001b[0m \u001b[1;32min\u001b[0m \u001b[0miterable\u001b[0m\u001b[1;33m:\u001b[0m\u001b[1;33m\u001b[0m\u001b[1;33m\u001b[0m\u001b[0m\n\u001b[0m\u001b[0;32m    560\u001b[0m         \u001b[0melement\u001b[0m\u001b[1;33m.\u001b[0m\u001b[0mreverse\u001b[0m\u001b[1;33m(\u001b[0m\u001b[1;33m)\u001b[0m\u001b[1;33m\u001b[0m\u001b[1;33m\u001b[0m\u001b[0m\n\u001b[0;32m    561\u001b[0m         \u001b[1;32mwhile\u001b[0m \u001b[0melement\u001b[0m\u001b[1;33m:\u001b[0m\u001b[1;33m\u001b[0m\u001b[1;33m\u001b[0m\u001b[0m\n",
      "\u001b[1;32mD:\\Program Files\\Python\\lib\\concurrent\\futures\\_base.py\u001b[0m in \u001b[0;36mresult_iterator\u001b[1;34m()\u001b[0m\n\u001b[0;32m    606\u001b[0m                     \u001b[1;31m# Careful not to keep a reference to the popped future\u001b[0m\u001b[1;33m\u001b[0m\u001b[1;33m\u001b[0m\u001b[1;33m\u001b[0m\u001b[0m\n\u001b[0;32m    607\u001b[0m                     \u001b[1;32mif\u001b[0m \u001b[0mtimeout\u001b[0m \u001b[1;32mis\u001b[0m \u001b[1;32mNone\u001b[0m\u001b[1;33m:\u001b[0m\u001b[1;33m\u001b[0m\u001b[1;33m\u001b[0m\u001b[0m\n\u001b[1;32m--> 608\u001b[1;33m                         \u001b[1;32myield\u001b[0m \u001b[0mfs\u001b[0m\u001b[1;33m.\u001b[0m\u001b[0mpop\u001b[0m\u001b[1;33m(\u001b[0m\u001b[1;33m)\u001b[0m\u001b[1;33m.\u001b[0m\u001b[0mresult\u001b[0m\u001b[1;33m(\u001b[0m\u001b[1;33m)\u001b[0m\u001b[1;33m\u001b[0m\u001b[1;33m\u001b[0m\u001b[0m\n\u001b[0m\u001b[0;32m    609\u001b[0m                     \u001b[1;32melse\u001b[0m\u001b[1;33m:\u001b[0m\u001b[1;33m\u001b[0m\u001b[1;33m\u001b[0m\u001b[0m\n\u001b[0;32m    610\u001b[0m                         \u001b[1;32myield\u001b[0m \u001b[0mfs\u001b[0m\u001b[1;33m.\u001b[0m\u001b[0mpop\u001b[0m\u001b[1;33m(\u001b[0m\u001b[1;33m)\u001b[0m\u001b[1;33m.\u001b[0m\u001b[0mresult\u001b[0m\u001b[1;33m(\u001b[0m\u001b[0mend_time\u001b[0m \u001b[1;33m-\u001b[0m \u001b[0mtime\u001b[0m\u001b[1;33m.\u001b[0m\u001b[0mmonotonic\u001b[0m\u001b[1;33m(\u001b[0m\u001b[1;33m)\u001b[0m\u001b[1;33m)\u001b[0m\u001b[1;33m\u001b[0m\u001b[1;33m\u001b[0m\u001b[0m\n",
      "\u001b[1;32mD:\\Program Files\\Python\\lib\\concurrent\\futures\\_base.py\u001b[0m in \u001b[0;36mresult\u001b[1;34m(self, timeout)\u001b[0m\n\u001b[0;32m    443\u001b[0m                     \u001b[1;32mraise\u001b[0m \u001b[0mCancelledError\u001b[0m\u001b[1;33m(\u001b[0m\u001b[1;33m)\u001b[0m\u001b[1;33m\u001b[0m\u001b[1;33m\u001b[0m\u001b[0m\n\u001b[0;32m    444\u001b[0m                 \u001b[1;32melif\u001b[0m \u001b[0mself\u001b[0m\u001b[1;33m.\u001b[0m\u001b[0m_state\u001b[0m \u001b[1;33m==\u001b[0m \u001b[0mFINISHED\u001b[0m\u001b[1;33m:\u001b[0m\u001b[1;33m\u001b[0m\u001b[1;33m\u001b[0m\u001b[0m\n\u001b[1;32m--> 445\u001b[1;33m                     \u001b[1;32mreturn\u001b[0m \u001b[0mself\u001b[0m\u001b[1;33m.\u001b[0m\u001b[0m__get_result\u001b[0m\u001b[1;33m(\u001b[0m\u001b[1;33m)\u001b[0m\u001b[1;33m\u001b[0m\u001b[1;33m\u001b[0m\u001b[0m\n\u001b[0m\u001b[0;32m    446\u001b[0m                 \u001b[1;32melse\u001b[0m\u001b[1;33m:\u001b[0m\u001b[1;33m\u001b[0m\u001b[1;33m\u001b[0m\u001b[0m\n\u001b[0;32m    447\u001b[0m                     \u001b[1;32mraise\u001b[0m \u001b[0mTimeoutError\u001b[0m\u001b[1;33m(\u001b[0m\u001b[1;33m)\u001b[0m\u001b[1;33m\u001b[0m\u001b[1;33m\u001b[0m\u001b[0m\n",
      "\u001b[1;32mD:\\Program Files\\Python\\lib\\concurrent\\futures\\_base.py\u001b[0m in \u001b[0;36m__get_result\u001b[1;34m(self)\u001b[0m\n\u001b[0;32m    388\u001b[0m         \u001b[1;32mif\u001b[0m \u001b[0mself\u001b[0m\u001b[1;33m.\u001b[0m\u001b[0m_exception\u001b[0m\u001b[1;33m:\u001b[0m\u001b[1;33m\u001b[0m\u001b[1;33m\u001b[0m\u001b[0m\n\u001b[0;32m    389\u001b[0m             \u001b[1;32mtry\u001b[0m\u001b[1;33m:\u001b[0m\u001b[1;33m\u001b[0m\u001b[1;33m\u001b[0m\u001b[0m\n\u001b[1;32m--> 390\u001b[1;33m                 \u001b[1;32mraise\u001b[0m \u001b[0mself\u001b[0m\u001b[1;33m.\u001b[0m\u001b[0m_exception\u001b[0m\u001b[1;33m\u001b[0m\u001b[1;33m\u001b[0m\u001b[0m\n\u001b[0m\u001b[0;32m    391\u001b[0m             \u001b[1;32mfinally\u001b[0m\u001b[1;33m:\u001b[0m\u001b[1;33m\u001b[0m\u001b[1;33m\u001b[0m\u001b[0m\n\u001b[0;32m    392\u001b[0m                 \u001b[1;31m# Break a reference cycle with the exception in self._exception\u001b[0m\u001b[1;33m\u001b[0m\u001b[1;33m\u001b[0m\u001b[1;33m\u001b[0m\u001b[0m\n",
      "\u001b[1;31mBrokenProcessPool\u001b[0m: A process in the process pool was terminated abruptly while the future was running or pending."
     ]
    }
   ],
   "source": [
    "from concurrent.futures import ThreadPoolExecutor\n",
    "from concurrent.futures import ProcessPoolExecutor\n",
    "def gcd(pair):\n",
    "    a, b = pair\n",
    "    low = min(a, b)\n",
    "    for i in range(low, 0, -1):\n",
    "        if a % i == 0 and b % i == 0:\n",
    "            return i\n",
    "    assert False, 'Not reachable'\n",
    "    \n",
    "import time\n",
    "NUMBERS = [\n",
    "    (1963309, 2265973), (2030677, 3814172),\n",
    "    (1551645, 2229620), (2039045, 2020802),\n",
    "    (1823712, 1924928), (2293129, 1020491),\n",
    "    (1281238, 2273782), (3823812, 4237281),\n",
    "    (3812741, 4729139), (1292391, 2123811),\n",
    "]\n",
    "def main():\n",
    "    start = time.time()\n",
    "    pool = ProcessPoolExecutor(max_workers=2) # The one change\n",
    "    results = list(pool.map(gcd, NUMBERS))\n",
    "    end = time.time()\n",
    "    delta = end - start\n",
    "    print(f'Took {delta:.3f} seconds')\n",
    "    \n",
    "if __name__ == '__main__':\n",
    "    main()\n"
   ]
  },
  {
   "cell_type": "markdown",
   "id": "50262c61",
   "metadata": {},
   "source": [
    "## RobustNess\n",
    "### Context and With\n"
   ]
  },
  {
   "cell_type": "code",
   "execution_count": 158,
   "id": "598e6ed1",
   "metadata": {
    "scrolled": true
   },
   "outputs": [
    {
     "name": "stderr",
     "output_type": "stream",
     "text": [
      "DEBUG:root:debug\n",
      "ERROR:root:error\n",
      "ERROR:root:error\n"
     ]
    }
   ],
   "source": [
    "import logging\n",
    "from contextlib import contextmanager\n",
    "\n",
    "@contextmanager\n",
    "def debug_logging(level):\n",
    "    logger = logging.getLogger()\n",
    "    old_level = logger.getEffectiveLevel()\n",
    "    logger.setLevel(level)\n",
    "    try:\n",
    "        yield logger\n",
    "    finally:\n",
    "        logger.setLevel(old_level)\n",
    "\n",
    "with debug_logging(logging.DEBUG) as l:\n",
    "    l.debug(\"debug\")\n",
    "    l.error(\"error\")\n",
    "\n",
    "logging.debug(\"debug\")\n",
    "logging.error(\"error\")"
   ]
  },
  {
   "cell_type": "markdown",
   "id": "68bbf491",
   "metadata": {},
   "source": [
    "### Copyreg with Pickle"
   ]
  },
  {
   "cell_type": "code",
   "execution_count": 193,
   "id": "a5340b54",
   "metadata": {},
   "outputs": [
    {
     "name": "stdout",
     "output_type": "stream",
     "text": [
      "b'\\x80\\x04\\x95b\\x00\\x00\\x00\\x00\\x00\\x00\\x00\\x8c\\x08builtins\\x94\\x8c\\x07getattr\\x94\\x93\\x94\\x8c\\x08__main__\\x94\\x8c\\x05State\\x94\\x93\\x94\\x8c\\x08unpickle\\x94\\x86\\x94R\\x94}\\x94(\\x8c\\x04year\\x94K\\x01\\x8c\\x06gender\\x94K\\x02\\x8c\\x05grade\\x94K\\x03u\\x85\\x94R\\x94.'\n",
      "{'year': 1, 'gender': 2, 'grade': 3}\n"
     ]
    }
   ],
   "source": [
    "import pickle\n",
    "import copyreg\n",
    "\n",
    "class State: \n",
    "    \n",
    "    def __init__(self, year=0, gender=0, grade=0):\n",
    "        self.year = year\n",
    "        self.gender = gender\n",
    "        self.grade = grade\n",
    "    \n",
    "    def pickle(self):\n",
    "        kwargs = self.__dict__\n",
    "        return self.unpickle, (kwargs,)\n",
    "    \n",
    "    @classmethod\n",
    "    def unpickle(cls, kwargs):\n",
    "        return cls(**kwargs)\n",
    "        \n",
    "copyreg.pickle(State, State.pickle)\n",
    "bob = State(1, 2, 3)\n",
    "serial_bob = pickle.dumps(bob)\n",
    "deserial_bob = pickle.loads(serial_bob)\n",
    "print(serial_bob)\n",
    "print(deserial_bob.__dict__)\n",
    "\n",
    "\n"
   ]
  },
  {
   "cell_type": "markdown",
   "id": "6bf1182a",
   "metadata": {},
   "source": [
    "### Profiling"
   ]
  },
  {
   "cell_type": "code",
   "execution_count": 216,
   "id": "d7673cf0",
   "metadata": {},
   "outputs": [
    {
     "name": "stderr",
     "output_type": "stream",
     "text": [
      "Exception ignored in: <coroutine object within at 0x000002ABAF03BE40>\n",
      "Traceback (most recent call last):\n",
      "  File \"<string>\", line 1, in <lambda>\n",
      "KeyError: '__import__'\n",
      "Exception ignored in: <coroutine object within at 0x000002ABAF03BE40>\n",
      "Traceback (most recent call last):\n",
      "  File \"<string>\", line 1, in <lambda>\n",
      "KeyError: '__import__'\n"
     ]
    },
    {
     "name": "stdout",
     "output_type": "stream",
     "text": [
      "         10009 function calls in 0.009 seconds\n",
      "\n",
      "   Ordered by: cumulative time\n",
      "\n",
      "   ncalls  tottime  percall  cumtime  percall filename:lineno(function)\n",
      "        1    0.000    0.000    0.009    0.009 2973377754.py:17(<lambda>)\n",
      "        1    0.004    0.004    0.009    0.009 2973377754.py:1(insertion_sort)\n",
      "    10000    0.005    0.000    0.005    0.000 2973377754.py:7(insert_value)\n",
      "        5    0.000    0.000    0.000    0.000 {method 'insert' of 'list' objects}\n",
      "        1    0.000    0.000    0.000    0.000 {method 'disable' of '_lsprof.Profiler' objects}\n",
      "        1    0.000    0.000    0.000    0.000 {method 'append' of 'list' objects}\n",
      "\n",
      "\n",
      "   Ordered by: cumulative time\n",
      "\n",
      "Function                                          was called by...\n",
      "                                                      ncalls  tottime  cumtime\n",
      "2973377754.py:17(<lambda>)                        <- \n",
      "2973377754.py:1(insertion_sort)                   <-       1    0.004    0.009  2973377754.py:17(<lambda>)\n",
      "2973377754.py:7(insert_value)                     <-   10000    0.005    0.005  2973377754.py:1(insertion_sort)\n",
      "{method 'insert' of 'list' objects}               <-       5    0.000    0.000  2973377754.py:7(insert_value)\n",
      "{method 'disable' of '_lsprof.Profiler' objects}  <- \n",
      "{method 'append' of 'list' objects}               <-       1    0.000    0.000  2973377754.py:7(insert_value)\n",
      "\n",
      "\n"
     ]
    },
    {
     "data": {
      "text/plain": [
       "<pstats.Stats at 0x2abaebe45b0>"
      ]
     },
     "execution_count": 216,
     "metadata": {},
     "output_type": "execute_result"
    }
   ],
   "source": [
    "def insertion_sort(data):\n",
    "    result = []\n",
    "    for value in data:\n",
    "        insert_value(result, value)\n",
    "    return result\n",
    "\n",
    "def insert_value(array, value):\n",
    "    for i, existing in enumerate(array):\n",
    "        if existing > value:\n",
    "            array.insert(i, value)\n",
    "        return\n",
    "    array.append(value)\n",
    "\n",
    "from random import randint\n",
    "max_size = 10**4\n",
    "data = [randint(0, max_size) for _ in range(max_size)]\n",
    "test = lambda: insertion_sort(data)\n",
    "# print(data)\n",
    "\n",
    "from cProfile import Profile\n",
    "profile = Profile()\n",
    "profile.runcall(test)\n",
    "\n",
    "from pstats import Stats\n",
    "s = Stats(profile)\n",
    "s.strip_dirs()\n",
    "s.sort_stats('cumulative')\n",
    "s.print_stats()\n",
    "s.print_callers()"
   ]
  },
  {
   "cell_type": "code",
   "execution_count": 241,
   "id": "408f143b",
   "metadata": {},
   "outputs": [
    {
     "name": "stdout",
     "output_type": "stream",
     "text": [
      "b'shit'\n",
      "time 0.204897000\n",
      "time 0.131405100\n"
     ]
    }
   ],
   "source": [
    "a = b\"shit hits the fan\"\n",
    "view = memoryview(a)\n",
    "print(view[0:4].tobytes())\n",
    "\n",
    "from timeit import timeit\n",
    "res = timeit(stmt='view[0:4]', globals=globals(), number = 1000000)\n",
    "print(f'time {res:0.9f}')\n",
    "res = timeit(stmt='a[0:4]', globals=globals(), number = 1000000)\n",
    "print(f'time {res:0.9f}')"
   ]
  },
  {
   "cell_type": "code",
   "execution_count": 250,
   "id": "bcb4454d",
   "metadata": {},
   "outputs": [
    {
     "name": "stderr",
     "output_type": "stream",
     "text": [
      "E"
     ]
    },
    {
     "name": "stdout",
     "output_type": "stream",
     "text": [
      "__main__\n"
     ]
    },
    {
     "name": "stderr",
     "output_type": "stream",
     "text": [
      "\n",
      "======================================================================\n",
      "ERROR: C:\\Users\\eugen\\AppData\\Roaming\\jupyter\\runtime\\kernel-8feeaf82-0c15-4f71-845e-a62a826169d5 (unittest.loader._FailedTest)\n",
      "----------------------------------------------------------------------\n",
      "AttributeError: module '__main__' has no attribute 'C:\\Users\\eugen\\AppData\\Roaming\\jupyter\\runtime\\kernel-8feeaf82-0c15-4f71-845e-a62a826169d5'\n",
      "\n",
      "----------------------------------------------------------------------\n",
      "Ran 1 test in 0.002s\n",
      "\n",
      "FAILED (errors=1)\n"
     ]
    },
    {
     "ename": "SystemExit",
     "evalue": "True",
     "output_type": "error",
     "traceback": [
      "An exception has occurred, use %tb to see the full traceback.\n",
      "\u001b[1;31mSystemExit\u001b[0m\u001b[1;31m:\u001b[0m True\n"
     ]
    },
    {
     "name": "stderr",
     "output_type": "stream",
     "text": [
      "D:\\Program Files\\Python\\lib\\site-packages\\IPython\\core\\interactiveshell.py:3449: UserWarning: To exit: use 'exit', 'quit', or Ctrl-D.\n",
      "  warn(\"To exit: use 'exit', 'quit', or Ctrl-D.\", stacklevel=1)\n"
     ]
    }
   ],
   "source": [
    "###\n",
    "from unittest import TestCase, main\n",
    "\n",
    "\n",
    "# utils.py\n",
    "def to_str(data):\n",
    "    if isinstance(data, str):\n",
    "        return data\n",
    "    elif isinstance(data, bytes):\n",
    "        return data.decode('utf-8')\n",
    "    else:\n",
    "        raise TypeError('Must supply str or bytes, ' 'found: %r' % data)\n",
    "\n",
    "class UtilsTestCase(TestCase):\n",
    "    def test_to_str_bytes(self):\n",
    "        self.assertEqual('hello', to_str(b'hello'))\n",
    "    def test_to_str_str(self):\n",
    "        self.assertEqual('hello', to_str('hello'))\n",
    "    def test_failing(self):\n",
    "        self.assertEqual('incorrect', to_str('hello'))\n",
    "\n",
    "print(__name__)\n",
    "if __name__ == '__main__':\n",
    "    main()"
   ]
  },
  {
   "cell_type": "code",
   "execution_count": null,
   "id": "268e976b",
   "metadata": {},
   "outputs": [],
   "source": [
    "# integration_test.py\n",
    "from unittest import TestCase, main\n",
    "    def setUpModule():\n",
    "        print('* Module setup')\n",
    "    def tearDownModule():\n",
    "        print('* Module clean-up')\n",
    "\n",
    "class IntegrationTest(TestCase):\n",
    "    def setUp(self):\n",
    "        print('* Test setup')\n",
    "    def tearDown(self):\n",
    "    print('* Test clean-up')\n",
    "    def test_end_to_end1(self):\n",
    "        print('* Test 1')\n",
    "    def test_end_to_end2(self):\n",
    "        print('* Test 2')\n",
    "\n",
    "if __name__ == '__main__':\n",
    "    main()"
   ]
  },
  {
   "cell_type": "code",
   "execution_count": null,
   "id": "c90d0ca4",
   "metadata": {},
   "outputs": [],
   "source": []
  },
  {
   "cell_type": "code",
   "execution_count": null,
   "id": "9e108e39",
   "metadata": {},
   "outputs": [],
   "source": []
  },
  {
   "cell_type": "code",
   "execution_count": null,
   "id": "a21ba94d",
   "metadata": {},
   "outputs": [],
   "source": []
  },
  {
   "cell_type": "code",
   "execution_count": null,
   "id": "5a79f902",
   "metadata": {},
   "outputs": [],
   "source": []
  },
  {
   "cell_type": "code",
   "execution_count": null,
   "id": "a99a0040",
   "metadata": {},
   "outputs": [],
   "source": []
  },
  {
   "cell_type": "code",
   "execution_count": null,
   "id": "68be62f3",
   "metadata": {},
   "outputs": [],
   "source": []
  }
 ],
 "metadata": {
  "kernelspec": {
   "display_name": "Python 3 (ipykernel)",
   "language": "python",
   "name": "python3"
  },
  "language_info": {
   "codemirror_mode": {
    "name": "ipython",
    "version": 3
   },
   "file_extension": ".py",
   "mimetype": "text/x-python",
   "name": "python",
   "nbconvert_exporter": "python",
   "pygments_lexer": "ipython3",
   "version": "3.9.6"
  }
 },
 "nbformat": 4,
 "nbformat_minor": 5
}
