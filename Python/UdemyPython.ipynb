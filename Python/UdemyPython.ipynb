{
 "cells": [
  {
   "cell_type": "code",
   "execution_count": 3,
   "id": "7ab76a63",
   "metadata": {},
   "outputs": [
    {
     "name": "stdout",
     "output_type": "stream",
     "text": [
      "Overwriting cool.txt\n"
     ]
    }
   ],
   "source": [
    "%%writefile cool.txt\n",
    "haha is bb \n",
    "bb is haha \n",
    "haha 不晓得 bb\n",
    "bb 1239078124=--=;[./] haha"
   ]
  },
  {
   "cell_type": "code",
   "execution_count": 7,
   "id": "5dedb81b",
   "metadata": {},
   "outputs": [
    {
     "data": {
      "text/plain": [
       "'C:\\\\Users\\\\eugen\\\\Desktop\\\\LearnIng\\\\Python'"
      ]
     },
     "execution_count": 7,
     "metadata": {},
     "output_type": "execute_result"
    }
   ],
   "source": [
    "pwd"
   ]
  },
  {
   "cell_type": "code",
   "execution_count": 11,
   "id": "8fe4280b",
   "metadata": {},
   "outputs": [
    {
     "data": {
      "text/plain": [
       "'haha is bb \\nbb is haha \\nhaha 不晓得 bb\\nbb 1239078124=--=;[./] haha\\n'"
      ]
     },
     "execution_count": 11,
     "metadata": {},
     "output_type": "execute_result"
    }
   ],
   "source": [
    "f = open(\"cool.txt\")\n",
    "f.read()"
   ]
  },
  {
   "cell_type": "code",
   "execution_count": 12,
   "id": "4b8ea00d",
   "metadata": {},
   "outputs": [
    {
     "data": {
      "text/plain": [
       "'haha is bb \\nbb is haha \\nhaha 不晓得 bb\\nbb 1239078124=--=;[./] haha\\n'"
      ]
     },
     "execution_count": 12,
     "metadata": {},
     "output_type": "execute_result"
    }
   ],
   "source": [
    "f.seek(0)\n",
    "f.read()"
   ]
  },
  {
   "cell_type": "code",
   "execution_count": 1,
   "id": "c242a1e9",
   "metadata": {},
   "outputs": [
    {
     "name": "stdout",
     "output_type": "stream",
     "text": [
      "['haha is bb \\n', 'bb is haha \\n', 'haha 不晓得 bb\\n', 'bb 1239078124=--=;[./] haha\\n']\n"
     ]
    }
   ],
   "source": [
    "with open(\"cool.txt\") as f:\n",
    "    a = f.readlines()\n",
    "    print(a)"
   ]
  },
  {
   "cell_type": "code",
   "execution_count": 16,
   "id": "d28dd64c",
   "metadata": {},
   "outputs": [
    {
     "name": "stdout",
     "output_type": "stream",
     "text": [
      "1 2\n",
      "\n"
     ]
    },
    {
     "data": {
      "text/plain": [
       "3"
      ]
     },
     "execution_count": 16,
     "metadata": {},
     "output_type": "execute_result"
    }
   ],
   "source": [
    "import functools\n",
    "\n",
    "def tracer(funcname):\n",
    "    @functools.wraps(funcname)\n",
    "    def warp(*args, **kwargs):\n",
    "        print(*args)\n",
    "        print(**kwargs)\n",
    "        a = funcname(*args, **kwargs)\n",
    "        return a\n",
    "    return warp\n",
    "    \n",
    "@tracer\n",
    "def cool(a, b):\n",
    "    return a + b\n",
    "\n",
    "cool(1,2)\n",
    "\n",
    "    "
   ]
  }
 ],
 "metadata": {
  "kernelspec": {
   "display_name": "Python 3 (ipykernel)",
   "language": "python",
   "name": "python3"
  },
  "language_info": {
   "codemirror_mode": {
    "name": "ipython",
    "version": 3
   },
   "file_extension": ".py",
   "mimetype": "text/x-python",
   "name": "python",
   "nbconvert_exporter": "python",
   "pygments_lexer": "ipython3",
   "version": "3.9.6"
  }
 },
 "nbformat": 4,
 "nbformat_minor": 5
}
